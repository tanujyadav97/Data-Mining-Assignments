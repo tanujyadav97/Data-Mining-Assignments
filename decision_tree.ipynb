{
 "cells": [
  {
   "cell_type": "code",
   "execution_count": 1,
   "metadata": {},
   "outputs": [],
   "source": [
    "import pandas as pd\n",
    "import math"
   ]
  },
  {
   "cell_type": "code",
   "execution_count": 81,
   "metadata": {},
   "outputs": [],
   "source": [
    "df=pd.DataFrame(columns=['outlook','temp','humidity','windy','target'])\n",
    "df.loc[0]=['rainy','hot','high','false','n']\n",
    "df.loc[1]=['rainy','hot','high','true','n']\n",
    "df.loc[2]=['overcast','hot','high','false','y']\n",
    "df.loc[3]=['sunny','mild','high','false','y']\n",
    "df.loc[4]=['sunny','cool','normal','false','y']\n",
    "df.loc[5]=['sunny','cool','normal','true','n']\n",
    "df.loc[6]=['overcast','cool','normal','true','y']\n",
    "df.loc[7]=['rainy','mild','high','false','n']\n",
    "df.loc[8]=['rainy','cool','normal','false','y']\n",
    "df.loc[9]=['sunny','mild','normal','false','y']\n",
    "df.loc[10]=['rainy','mild','normal','true','y']\n",
    "df.loc[11]=['overcast','mild','high','true','y']\n",
    "df.loc[12]=['overcast','hot','normal','false','y']\n",
    "df.loc[13]=['sunny','mild','high','true','n']\n",
    "n=14"
   ]
  },
  {
   "cell_type": "code",
   "execution_count": 3,
   "metadata": {},
   "outputs": [],
   "source": [
    "def entropy(string):\n",
    "    prob = [ float(string.count(c)) / len(string) for c in dict.fromkeys(list(string)) ]\n",
    "    entropy = - sum([ p * math.log(p) / math.log(2.0) for p in prob ])\n",
    "    return entropy"
   ]
  },
  {
   "cell_type": "code",
   "execution_count": 4,
   "metadata": {},
   "outputs": [],
   "source": [
    "def infogain(l):\n",
    "    ig = l[0]\n",
    "    for d in l[1:]:\n",
    "        ig-=d\n",
    "    return ig"
   ]
  },
  {
   "cell_type": "code",
   "execution_count": 5,
   "metadata": {},
   "outputs": [],
   "source": [
    "def nested_set(dic, keys, value):\n",
    "    for key in keys[:-1]:\n",
    "        dic = dic.setdefault(key, {})\n",
    "    dic[keys[-1]] = value"
   ]
  },
  {
   "cell_type": "code",
   "execution_count": 83,
   "metadata": {},
   "outputs": [],
   "source": [
    "dt={}\n",
    "def fun(done,val):\n",
    "    ss=\"\"\n",
    "    for i in range(0,n):\n",
    "        fl=1\n",
    "        for j in range(0,len(done)):\n",
    "            if df[done[j]][i]==val[j]:\n",
    "                continue\n",
    "            else:\n",
    "                fl=0\n",
    "                break\n",
    "        if fl==1:\n",
    "            ss+=df['target'][i]\n",
    "    ent=entropy(ss)\n",
    "    lenn=len(ss)\n",
    "    \n",
    "    maxx=-500\n",
    "    selc=\"\"\n",
    "    for c in list(df.columns):\n",
    "        if (c not in done) & (c not in ['target']):\n",
    "            ll=[ent]\n",
    "            for k in dict.fromkeys(list(df[c])).keys():\n",
    "                newdone=list(done)\n",
    "                newval=list(val)\n",
    "                newdone.append(c)\n",
    "                newval.append(k)\n",
    "                s=\"\"\n",
    "                for i in range(0,n):\n",
    "                    fl=1\n",
    "                    for j in range(0,len(newdone)):\n",
    "                        if df[newdone[j]][i]==newval[j]:\n",
    "                            continue\n",
    "                        else:\n",
    "                            fl=0\n",
    "                            break\n",
    "                    if fl==1:\n",
    "                        s+=df['target'][i]\n",
    "                ll.append(entropy(s)*len(s)/lenn)\n",
    "            \n",
    "            ig=infogain(ll)\n",
    "            if(ig>maxx):\n",
    "                maxx=ig\n",
    "                selc=c\n",
    "    if (maxx==-500)|(maxx==0):\n",
    "        newdone=[]\n",
    "        for i,j in zip(done,val):\n",
    "            newdone.append(i)\n",
    "            newdone.append(j)\n",
    "        if len(newdone)==0:\n",
    "            newdone.append(0)\n",
    "        nested_set(dt,newdone,ss[0])\n",
    "    else:\n",
    "        newdone=[]\n",
    "        newdone2=list(done)\n",
    "        newdone2.append(selc)\n",
    "        for i,j in zip(done,val):\n",
    "            newdone.append(i)\n",
    "            newdone.append(j)\n",
    "        newdone.append(selc)\n",
    "        nested_set(dt,newdone,{})\n",
    "        for k in dict.fromkeys(list(df[selc])).keys():\n",
    "            newval=list(val)\n",
    "            newval.append(k)\n",
    "            newdone1=list(newdone)\n",
    "            newdone1.append(k)\n",
    "            nested_set(dt,newdone1,{})\n",
    "            fun(newdone2,newval)\n"
   ]
  },
  {
   "cell_type": "code",
   "execution_count": 84,
   "metadata": {},
   "outputs": [],
   "source": [
    "def predict(dt1,l):\n",
    "    key=list(dt1.keys())[0]\n",
    "    while(1):\n",
    "        dt1=dt1[key]\n",
    "        if type(dt1) is not dict:\n",
    "            break\n",
    "        val=l[key]\n",
    "        dt1=dt1[val]\n",
    "        if type(dt1) is not dict:\n",
    "            break\n",
    "        key=list(dt1.keys())[0]\n",
    "    return (dt1)"
   ]
  },
  {
   "cell_type": "code",
   "execution_count": 88,
   "metadata": {},
   "outputs": [
    {
     "name": "stdout",
     "output_type": "stream",
     "text": [
      "The generated decision tree is: \n",
      "\n",
      "{'outlook': {'rainy': {'humidity': {'high': 'n', 'normal': 'y'}}, 'overcast': 'y', 'sunny': {'windy': {'false': 'y', 'true': 'n'}}}}\n",
      "\n",
      "The predicted value for the given data is: \n",
      "y\n"
     ]
    }
   ],
   "source": [
    "fun([],[])\n",
    "print(\"The generated decision tree is: \\n\")\n",
    "print(dt)\n",
    "print(\"\\nThe predicted value for the given data is: \")\n",
    "print(predict(dt,{'outlook':'rainy','temp':'high','humidity':'normal','windy':'true'}))"
   ]
  }
 ],
 "metadata": {
  "kernelspec": {
   "display_name": "Python 3",
   "language": "python",
   "name": "python3"
  },
  "language_info": {
   "codemirror_mode": {
    "name": "ipython",
    "version": 3
   },
   "file_extension": ".py",
   "mimetype": "text/x-python",
   "name": "python",
   "nbconvert_exporter": "python",
   "pygments_lexer": "ipython3",
   "version": "3.5.4"
  }
 },
 "nbformat": 4,
 "nbformat_minor": 1
}
